{
 "cells": [
  {
   "cell_type": "markdown",
   "metadata": {},
   "source": [
    "<img src=https://learning.oreilly.com/library/cover/9781119482086/ align=\"left\">  [Advances in Financial Machine Learning](https://learning.oreilly.com/library/view/advances-in-financial/9781119482086/)"
   ]
  },
  {
   "cell_type": "markdown",
   "metadata": {},
   "source": [
    "<img src=https://learning.oreilly.com/library/cover/9781119037996/ align=\"left\">  [Derivatives Analytics with Python: Data Analysis, Models, Simulation, Calibration and Hedging](https://learning.oreilly.com/library/view/derivatives-analytics-with/9781119037996/)"
   ]
  },
  {
   "cell_type": "markdown",
   "metadata": {},
   "source": [
    "<img src=https://d2sofvawe08yqg.cloudfront.net/quantlibpythoncookbook/hero2x?1559391092 width=\"130px\" align=\"left\">  [QuantLib Python Cookbook](https://leanpub.com/quantlibpythoncookbook)"
   ]
  },
  {
   "cell_type": "markdown",
   "metadata": {},
   "source": [
    "<img src=https://d2sofvawe08yqg.cloudfront.net/implementingquantlib/hero2x?1573599487 width=\"130px\" align=\"left\">  [Implementing QuantLib](https://leanpub.com/implementingquantlib)"
   ]
  },
  {
   "cell_type": "code",
   "execution_count": null,
   "metadata": {},
   "outputs": [],
   "source": []
  },
  {
   "cell_type": "code",
   "execution_count": null,
   "metadata": {},
   "outputs": [],
   "source": []
  }
 ],
 "metadata": {
  "kernelspec": {
   "display_name": "Python 3",
   "language": "python",
   "name": "python3"
  },
  "language_info": {
   "codemirror_mode": {
    "name": "ipython",
    "version": 3
   },
   "file_extension": ".py",
   "mimetype": "text/x-python",
   "name": "python",
   "nbconvert_exporter": "python",
   "pygments_lexer": "ipython3",
   "version": "3.7.4"
  }
 },
 "nbformat": 4,
 "nbformat_minor": 2
}
