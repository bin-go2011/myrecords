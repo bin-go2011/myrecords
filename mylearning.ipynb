{
 "cells": [
  {
   "cell_type": "markdown",
   "metadata": {},
   "source": [
    "# [MIT](http://open.163.com/special/School/mit.html)"
   ]
  },
  {
   "cell_type": "markdown",
   "metadata": {},
   "source": [
    "* ### [Caluculus](http://open.163.com/newview/movie/courseintro?newurl=%2Fspecial%2Fopencourse%2Fweijifen.html)\n",
    "* ### [Linear Algebra](http://open.163.com/newview/movie/courseintro?newurl=%2Fspecial%2Fopencourse%2Fdaishu.html)\n",
    "* ### [Artificial Intelligence](http://open.163.com/newview/movie/free?pid=MCTMNN3UI&mid=MCTMNR8QS)\n",
    "* ### [Digital Signal Processing](http://open.163.com/newview/movie/courseintro?newurl=%2Fspecial%2Fopencourse%2Fsignals.html)\n",
    "* ### [Information Entropy and Computation](http://open.163.com/newview/movie/courseintro?newurl=%2Fspecial%2Fopencourse%2Finformation.html)"
   ]
  },
  {
   "cell_type": "markdown",
   "metadata": {},
   "source": [
    "# DSP"
   ]
  },
  {
   "cell_type": "markdown",
   "metadata": {},
   "source": [
    "<img src=https://images-na.ssl-images-amazon.com/images/I/41cPm36XMoL._SX362_BO1,204,203,200_.jpg width=\"100px\" align=\"left\">  [Understanding Digital Signal Processing, Third Edition](https://learning.oreilly.com/library/view/understanding-digital-signal/9780137028450/)"
   ]
  },
  {
   "cell_type": "markdown",
   "metadata": {},
   "source": [
    "<img src=https://images-na.ssl-images-amazon.com/images/I/418A0nrawUL._SX379_BO1,204,203,200_.jpg width=\"100px\" align=\"left\">  [Think DSP](https://learning.oreilly.com/library/view/think-dsp/9781491938508/)\n",
    "* [Github](https://github.com/AllenDowney/ThinkDSP.git)"
   ]
  },
  {
   "cell_type": "markdown",
   "metadata": {},
   "source": [
    "<img src=https://images-na.ssl-images-amazon.com/images/I/515R55m2OiL._SX332_BO1,204,203,200_.jpg width=\"100px\" align=\"left\">  [The H.264 Advanced Video Compression Standard 2nd Edition](https://learning.oreilly.com/library/view/the-h264-advanced/9780470516928/)"
   ]
  },
  {
   "cell_type": "markdown",
   "metadata": {},
   "source": [
    "# ML & DL"
   ]
  },
  {
   "cell_type": "markdown",
   "metadata": {},
   "source": [
    "<img src=https://images-na.ssl-images-amazon.com/images/I/61AWo6sS%2B-L._SX378_BO1,204,203,200_.jpg width=\"100px\" align=\"left\">  [Deep Learning](https://www.deeplearningbook.org/)"
   ]
  },
  {
   "cell_type": "markdown",
   "metadata": {},
   "source": [
    "<img src=https://images-na.ssl-images-amazon.com/images/I/41JKpkymExL._SX400_BO1,204,203,200_.jpg width=\"100px\" align=\"left\">  [Python Machine Learning: Machine Learning and Deep Learning with Python, scikit-learn, and TensorFlow 2, 3rd Edition](https://learning.oreilly.com/library/view/python-machine-learning/9781789955750/Text/Chapter_1.xhtml#_idParaDest-19)"
   ]
  },
  {
   "cell_type": "markdown",
   "metadata": {},
   "source": [
    "<img src=https://images-na.ssl-images-amazon.com/images/I/51aqYc1QyrL._SX379_BO1,204,203,200_.jpg width=\"100px\" align=\"left\">  [Hands-On Machine Learning with Scikit-Learn, Keras, and TensorFlow: Concepts, Tools, and Techniques to Build Intelligent Systems (2nd)](https://learning.oreilly.com/library/view/hands-on-machine-learning/9781492032632/ch01.html)"
   ]
  },
  {
   "cell_type": "markdown",
   "metadata": {},
   "source": [
    "<img src=https://images-na.ssl-images-amazon.com/images/I/41sz-TFtqPL._SX379_BO1,204,203,200_.jpg width=\"100px\" align=\"left\">  [Programming PyTorch for Deep Learning: Creating and Deploying Deep Learning Applications](https://learning.oreilly.com/library/view/programming-pytorch-for/9781492045342/ch01.html#getting-started-with-pytorch)\n",
    "* [github](https://github.com/falloutdurham/beginners-pytorch-deep-learning)"
   ]
  },
  {
   "cell_type": "markdown",
   "metadata": {},
   "source": [
    "# [fast.ai](https://course.fast.ai/) [(Github)](https://github.com/fastai/course-v3)"
   ]
  },
  {
   "cell_type": "markdown",
   "metadata": {},
   "source": [
    "* [lesson1-pets](https://www.youtube.com/watch?v=XfoYk_Z5AkI&feature=youtu.be) "
   ]
  },
  {
   "cell_type": "markdown",
   "metadata": {},
   "source": [
    "# [deeplearning.ai](https://study.163.com/provider/2001053000/index.htm)"
   ]
  },
  {
   "cell_type": "markdown",
   "metadata": {},
   "source": [
    "# iOS & Swift"
   ]
  },
  {
   "cell_type": "markdown",
   "metadata": {},
   "source": [
    "<img src=https://images-na.ssl-images-amazon.com/images/I/41JM9SZBwjL._SX404_BO1,204,203,200_.jpg width=\"100px\" align=\"left\">  [Complete iOS 12 Development Guide: Become a professional iOS developer by mastering Swift, Xcode 10, ARKit, and Core ML](https://learning.oreilly.com/library/view/complete-ios-12/9781838643799/fcc57a80-7754-4d16-9276-9f7469be0427.xhtml)"
   ]
  },
  {
   "cell_type": "markdown",
   "metadata": {},
   "source": [
    "<img src=https://images-na.ssl-images-amazon.com/images/I/418ne8nBoSL._SX404_BO1,204,203,200_.jpg width=\"100px\" align=\"left\">  [Hands-On Design Patterns with Swift: Master Swift best practices to build modular applications for mobile, desktop, and server platforms](https://learning.oreilly.com/library/view/hands-on-design-patterns/9781789135565/46e34b35-92d3-44fe-9fa2-fe174e4908b1.xhtml)"
   ]
  },
  {
   "cell_type": "markdown",
   "metadata": {},
   "source": [
    "<img src=https://images-na.ssl-images-amazon.com/images/I/51Bq94E43zL._SX396_BO1,204,203,200_.jpg width=\"100px\" align=\"left\">  [iOS Development with Swift](https://learning.oreilly.com/library/view/ios-development-with/9781617294075/kindle_split_013.html) \n",
    "- [**video**](https://learning.oreilly.com/videos/ios-development-with/10000MNLV201743/10000MNLV201743-grummitt_u5m3)"
   ]
  },
  {
   "cell_type": "markdown",
   "metadata": {},
   "source": [
    "<img src=https://images-na.ssl-images-amazon.com/images/I/416SVKx4TdL._SX342_BO1,204,203,200_.jpg width=\"100px\" align=\"left\">  [Swift Programming: The Big Nerd Ranch Guide (2nd Edition)](https://learning.oreilly.com/library/view/swift-programming-the/9780134610733/ch08.xhtml) "
   ]
  },
  {
   "cell_type": "markdown",
   "metadata": {},
   "source": [
    "# Computer Graphics"
   ]
  },
  {
   "cell_type": "markdown",
   "metadata": {},
   "source": [
    "<img src=https://images-na.ssl-images-amazon.com/images/I/51eE08%2BKl%2BL._SX380_BO1,204,203,200_.jpg width=\"100px\" align=\"left\">  [\n",
    "OpenGL ES 3.0 Programming Guide (2nd Edition)](https://learning.oreilly.com/library/view/opengl-es-30/9780133440133/) "
   ]
  },
  {
   "cell_type": "markdown",
   "metadata": {},
   "source": [
    "<img src=https://images-na.ssl-images-amazon.com/images/I/41mZCFR8eiL._SX380_BO1,204,203,200_.jpg width=\"100px\" align=\"left\">  [\n",
    "Metal Programming Guide: Tutorial and Reference via Swift](https://learning.oreilly.com/library/view/metal-programming-guide/9780134668963/ch02.xhtml) "
   ]
  },
  {
   "cell_type": "markdown",
   "metadata": {},
   "source": [
    "<img src=https://images-na.ssl-images-amazon.com/images/I/51YAhLbvpDL._SX380_BO1,204,203,200_.jpg width=\"100px\" align=\"left\">  [\n",
    "Vulkan Programming Guide: The Official Guide to Learning Vulkan](https://learning.oreilly.com/library/view/vulkantm-programming-guide/9780134464701/) "
   ]
  },
  {
   "cell_type": "markdown",
   "metadata": {},
   "source": [
    "<img src=https://learning.oreilly.com/api/v1/videoplaylists/image/800x600/media/book/41/9781786460714/9781786460714-2017-03-22.jpg width=\"100px\" align=\"left\">  [\n",
    "Vulkan Programming(**video**)](https://learning.oreilly.com/videos/vulkan-programming/9781786460714) "
   ]
  },
  {
   "cell_type": "markdown",
   "metadata": {},
   "source": [
    "<img src=https://learning.oreilly.com/library/cover/9780133373721/ width=\"100px\" align=\"left\">  [\n",
    "Hughes/Computer Graphics, 3/E](https://learning.oreilly.com/library/view/hughescomputer-graphics-3e/9780133373721/) "
   ]
  },
  {
   "cell_type": "markdown",
   "metadata": {},
   "source": [
    "<img src=https://learning.oreilly.com/library/cover/9781439852798/ width=\"100px\" align=\"left\">  [\n",
    "Introduction to Computer Graphics](https://learning.oreilly.com/library/view/introduction-to-computer/9781439852798/)"
   ]
  },
  {
   "cell_type": "markdown",
   "metadata": {},
   "source": [
    "# OpenCV & Qt5"
   ]
  },
  {
   "cell_type": "markdown",
   "metadata": {},
   "source": [
    "<img src=https://images-na.ssl-images-amazon.com/images/I/51bHQdhICWL._SX404_BO1,204,203,200_.jpg width=\"100px\" align=\"left\">  [\n",
    "Computer Vision with OpenCV 3 and Qt5](https://learning.oreilly.com/library/view/computer-vision-with/9781788472395/)"
   ]
  },
  {
   "cell_type": "markdown",
   "metadata": {},
   "source": [
    "<img src=https://images-na.ssl-images-amazon.com/images/I/51cHDeo2OEL._SX404_BO1,204,203,200_.jpg width=\"100px\" align=\"left\">  [\n",
    "Hands-On High Performance Programming with Qt 5: Build cross-platform applications using concurrency, parallel programming, and memory management](https://learning.oreilly.com/library/view/hands-on-high-performance/9781789531244/)"
   ]
  },
  {
   "cell_type": "markdown",
   "metadata": {},
   "source": [
    "# Golang"
   ]
  },
  {
   "cell_type": "markdown",
   "metadata": {},
   "source": [
    "<img src=https://learning.oreilly.com/api/v1/videoplaylists/image/800x600/media/book/15/9780135261651/9780135261651-2018-09-11.jpg width=\"100px\" align=\"left\">  [\n",
    "Ultra Go Programming, 2nd(**video**)](https://learning.oreilly.com/videos/ultimate-go-programming/9780135261651) "
   ]
  },
  {
   "cell_type": "markdown",
   "metadata": {},
   "source": [
    "# Algorithms"
   ]
  },
  {
   "cell_type": "markdown",
   "metadata": {},
   "source": [
    "<img src=https://images-na.ssl-images-amazon.com/images/I/51aU5VKX-IL._SX397_BO1,204,203,200_.jpg width=\"100px\" align=\"left\">  [\n",
    "Classic Computer Science Problems in Python](https://learning.oreilly.com/library/view/classic-computer-science/9781617295980/)"
   ]
  },
  {
   "cell_type": "markdown",
   "metadata": {},
   "source": [
    "<img src=https://images-na.ssl-images-amazon.com/images/I/41auL34wjTL._SX396_BO1,204,203,200_.jpg width=\"100px\" align=\"left\">  [\n",
    "Classic Computer Science Problems in Swift: Essential Techniques for Practicing Programmers](https://learning.oreilly.com/library/view/classic-computer-science/9781617294891/)"
   ]
  },
  {
   "cell_type": "code",
   "execution_count": null,
   "metadata": {},
   "outputs": [],
   "source": []
  }
 ],
 "metadata": {
  "kernelspec": {
   "display_name": "Python 3",
   "language": "python",
   "name": "python3"
  },
  "language_info": {
   "codemirror_mode": {
    "name": "ipython",
    "version": 3
   },
   "file_extension": ".py",
   "mimetype": "text/x-python",
   "name": "python",
   "nbconvert_exporter": "python",
   "pygments_lexer": "ipython3",
   "version": "3.7.4"
  }
 },
 "nbformat": 4,
 "nbformat_minor": 2
}
